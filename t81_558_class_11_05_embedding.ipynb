{
 "cells": [
  {
   "cell_type": "markdown",
   "metadata": {
    "id": "hRuM9Pg2oBZQ"
   },
   "source": [
    "<a href=\"https://colab.research.google.com/github/jeffheaton/t81_558_deep_learning/blob/master/t81_558_class_11_05_embedding.ipynb\" target=\"_parent\"><img src=\"https://colab.research.google.com/assets/colab-badge.svg\" alt=\"Open In Colab\"/></a>\n"
   ]
  },
  {
   "cell_type": "markdown",
   "metadata": {
    "id": "nPIDsF57oBZR"
   },
   "source": [
    "# T81-558: Applications of Deep Neural Networks\n",
    "**Module 11: Natural Language Processing and Speech Recognition**\n",
    "* Instructor: [Jeff Heaton](https://sites.wustl.edu/jeffheaton/), McKelvey School of Engineering, [Washington University in St. Louis](https://engineering.wustl.edu/Programs/Pages/default.aspx)\n",
    "* For more information visit the [class website](https://sites.wustl.edu/jeffheaton/t81-558/)."
   ]
  },
  {
   "cell_type": "markdown",
   "metadata": {
    "id": "4iEXcrLBoBZS"
   },
   "source": [
    "# Module 11 Material\n",
    "\n",
    "* Part 11.1: Introduction to Hugging Face [[Video]](https://www.youtube.com/watch?v=1IHXSbz02XM&list=PLjy4p-07OYzulelvJ5KVaT2pDlxivl_BN) [[Notebook]](https://github.com/jeffheaton/t81_558_deep_learning/blob/master/t81_558_class_11_01_huggingface.ipynb)\n",
    "* Part 11.2: Hugging Face Tokenizers [[Video]](https://www.youtube.com/watch?v=U-EGU1RyChg&list=PLjy4p-07OYzulelvJ5KVaT2pDlxivl_BN) [[Notebook]](https://github.com/jeffheaton/t81_558_deep_learning/blob/master/t81_558_class_11_02_tokenizers.ipynb)\n",
    "* Part 11.3: Hugging Face Datasets [[Video]](https://www.youtube.com/watch?v=Mq5ODegT17M&list=PLjy4p-07OYzulelvJ5KVaT2pDlxivl_BN) [[Notebook]](https://github.com/jeffheaton/t81_558_deep_learning/blob/master/t81_558_class_11_03_hf_datasets.ipynb)\n",
    "* Part 11.4: Training Hugging Face Models [[Video]](https://www.youtube.com/watch?v=https://www.youtube.com/watch?v=l69ov6b7DOM&list=PLjy4p-07OYzulelvJ5KVaT2pDlxivl_BN) [[Notebook]](https://github.com/jeffheaton/t81_558_deep_learning/blob/master/t81_558_class_11_04_hf_train.ipynb)\n",
    "* **Part 11.5: What are Embedding Layers in Keras** [[Video]](https://www.youtube.com/watch?v=OuNH5kT-aD0list=PLjy4p-07OYzulelvJ5KVaT2pDlxivl_BN&index=58) [[Notebook]](https://github.com/jeffheaton/t81_558_deep_learning/blob/master/t81_558_class_11_05_embedding.ipynb)"
   ]
  },
  {
   "cell_type": "markdown",
   "metadata": {
    "id": "92qJtJOToBZS"
   },
   "source": [
    "# Google CoLab Instructions\n",
    "\n",
    "The following code ensures that Google CoLab is running the correct version of TensorFlow."
   ]
  },
  {
   "cell_type": "code",
   "execution_count": null,
   "metadata": {
    "colab": {
     "base_uri": "https://localhost:8080/"
    },
    "id": "LvTVJyBMoBZS",
    "outputId": "13a4c525-a091-4ede-98dc-b814c34e0f44"
   },
   "outputs": [
    {
     "name": "stdout",
     "output_type": "stream",
     "text": [
      "Note: using Google CoLab\n"
     ]
    }
   ],
   "source": [
    "try:\n",
    "    %tensorflow_version 2.x\n",
    "    COLAB = True\n",
    "    print(\"Note: using Google CoLab\")\n",
    "except:\n",
    "    print(\"Note: not using Google CoLab\")\n",
    "    COLAB = False"
   ]
  },
  {
   "cell_type": "markdown",
   "metadata": {
    "id": "wTUM5nqjoBZT"
   },
   "source": [
    "# Part 11.5: What are Embedding Layers in Keras\n",
    "\n",
    "[Embedding Layers](https://keras.io/layers/embeddings/) are a handy feature of Keras that allows the program to automatically insert additional information into the data flow of your neural network. In the previous section, you saw that Word2Vec could expand words to a 300 dimension vector. An embedding layer would automatically allow you to insert these 300-dimension vectors in the place of word indexes.  \n",
    "\n",
    "Programmers often use embedding layers with Natural Language Processing (NLP); however, you can use these layers when you wish to insert a lengthier vector in an index value place. In some ways, you can think of an embedding layer as dimension expansion. However, the hope is that these additional dimensions provide more information to the model and provide a better score.\n",
    "\n",
    "## Simple Embedding Layer Example\n",
    "\n",
    "* **input_dim** = How large is the vocabulary?  How many categories are you encoding? This parameter is the number of items in your \"lookup table.\"\n",
    "* **output_dim** = How many numbers in the vector you wish to return. \n",
    "* **input_length** = How many items are in the input feature vector that you need to transform?\n",
    "\n",
    "Now we create a neural network with a vocabulary size of 10, which will reduce those values between 0-9 to 4 number vectors. This neural network does nothing more than passing the embedding on to the output. But it does let us see what the embedding is doing. Each feature vector coming in will have two such features."
   ]
  },
  {
   "cell_type": "code",
   "execution_count": null,
   "metadata": {
    "id": "CZk4DnzDoBZU"
   },
   "outputs": [],
   "source": [
    "from tensorflow.keras.models import Sequential\n",
    "from tensorflow.keras.layers import Embedding\n",
    "import numpy as np\n",
    "\n",
    "model = Sequential()\n",
    "embedding_layer = Embedding(input_dim=10, output_dim=4, input_length=2)\n",
    "model.add(embedding_layer)\n",
    "model.compile('adam', 'mse')\n"
   ]
  },
  {
   "cell_type": "markdown",
   "metadata": {
    "id": "eXHSrr3poBZU"
   },
   "source": [
    "Let's take a look at the structure of this neural network to see what is happening inside it."
   ]
  },
  {
   "cell_type": "code",
   "execution_count": null,
   "metadata": {
    "colab": {
     "base_uri": "https://localhost:8080/"
    },
    "id": "kqawbb_PoBZU",
    "outputId": "72fc2a6d-0656-455a-be6a-4e235e00d35d"
   },
   "outputs": [
    {
     "name": "stdout",
     "output_type": "stream",
     "text": [
      "Model: \"sequential\"\n",
      "_________________________________________________________________\n",
      " Layer (type)                Output Shape              Param #   \n",
      "=================================================================\n",
      " embedding (Embedding)       (None, 2, 4)              40        \n",
      "                                                                 \n",
      "=================================================================\n",
      "Total params: 40\n",
      "Trainable params: 40\n",
      "Non-trainable params: 0\n",
      "_________________________________________________________________\n"
     ]
    }
   ],
   "source": [
    "model.summary()"
   ]
  },
  {
   "cell_type": "markdown",
   "metadata": {
    "id": "6kh6wKszoBZV"
   },
   "source": [
    "For this neural network, which is just an embedding layer, the input is a vector of size 2. These two inputs are integer numbers from 0 to 9 (corresponding to the requested input_dim quantity of 10 values). Looking at the summary above, we see that the embedding layer has 40 parameters. This value comes from the embedded lookup table that contains four amounts (output_dim) for each of the 10 (input_dim) possible integer values for the two inputs. The output is 2 (input_length) length 4 (output_dim) vectors, resulting in a total output size of 8, which corresponds to the Output Shape given in the summary above.\n",
    "\n",
    "Now, let us query the neural network with two rows. The input is two integer values, as was specified when we created the neural network."
   ]
  },
  {
   "cell_type": "code",
   "execution_count": null,
   "metadata": {
    "colab": {
     "base_uri": "https://localhost:8080/"
    },
    "id": "iRBKtw-_oBZV",
    "outputId": "d316ef2f-dbb6-46a5-fa18-d145d9003021"
   },
   "outputs": [
    {
     "name": "stdout",
     "output_type": "stream",
     "text": [
      "(1, 2)\n",
      "[[[-0.04494917  0.01937468 -0.00152863  0.04808659]\n",
      "  [-0.04002655  0.03441895  0.04462588 -0.01472597]]]\n"
     ]
    }
   ],
   "source": [
    "input_data = np.array([\n",
    "    [1, 2]\n",
    "])\n",
    "\n",
    "pred = model.predict(input_data)\n",
    "\n",
    "print(input_data.shape)\n",
    "print(pred)\n"
   ]
  },
  {
   "cell_type": "markdown",
   "metadata": {
    "id": "DRfFids1oBZV"
   },
   "source": [
    "Here we see two length-4 vectors that Keras looked up for each input integer. Recall that Python arrays are zero-based. Keras replaced the value of 1 with the second row of the 10 x 4 lookup matrix. Similarly, Keras returned the value of 2 by the third row of the lookup matrix. The following code displays the lookup matrix in its entirety. The embedding layer performs no mathematical operations other than inserting the correct row from the lookup table."
   ]
  },
  {
   "cell_type": "code",
   "execution_count": null,
   "metadata": {
    "colab": {
     "base_uri": "https://localhost:8080/"
    },
    "id": "YStGrTSKoBZW",
    "outputId": "9c28d583-fa9e-472b-dd2a-e3325348b56e"
   },
   "outputs": [
    {
     "data": {
      "text/plain": [
       "[array([[-0.03164196,  0.02898774, -0.0273805 ,  0.01066511],\n",
       "        [-0.04494917,  0.01937468, -0.00152863,  0.04808659],\n",
       "        [-0.04002655,  0.03441895,  0.04462588, -0.01472597],\n",
       "        [ 0.02480464, -0.02585896,  0.0099823 ,  0.02589831],\n",
       "        [-0.02502655,  0.02517617, -0.03199299,  0.00127842],\n",
       "        [-0.00205797,  0.02709344, -0.04335414, -0.01793201],\n",
       "        [ 0.03926537,  0.0293855 ,  0.0445295 , -0.02160555],\n",
       "        [-0.0075082 , -0.03241253,  0.04906586, -0.02384975],\n",
       "        [ 0.00264529, -0.01921672, -0.0031809 ,  0.00151991],\n",
       "        [-0.02407705, -0.04659952, -0.02667597, -0.04108504]],\n",
       "       dtype=float32)]"
      ]
     },
     "execution_count": 5,
     "metadata": {},
     "output_type": "execute_result"
    }
   ],
   "source": [
    "embedding_layer.get_weights()"
   ]
  },
  {
   "cell_type": "markdown",
   "metadata": {
    "id": "y0QLcjnwoBZW"
   },
   "source": [
    "The values above are random parameters that Keras generated as starting points.  Generally, we will transfer an embedding or train these random values into something useful.  The following section demonstrates how to embed a hand-coded embedding. \n",
    "\n",
    "## Transferring An Embedding\n",
    "\n",
    "Now, we see how to hard-code an embedding lookup that performs a simple one-hot encoding.  One-hot encoding would transform the input integer values of 0, 1, and 2 to the vectors $[1,0,0]$, $[0,1,0]$, and $[0,0,1]$ respectively. The following code replaced the random lookup values in the embedding layer with this one-hot coding-inspired lookup table."
   ]
  },
  {
   "cell_type": "code",
   "execution_count": null,
   "metadata": {
    "id": "AIt-SWK6oBZW"
   },
   "outputs": [],
   "source": [
    "from tensorflow.keras.models import Sequential\n",
    "from tensorflow.keras.layers import Embedding\n",
    "import numpy as np\n",
    "\n",
    "embedding_lookup = np.array([\n",
    "    [1, 0, 0],\n",
    "    [0, 1, 0],\n",
    "    [0, 0, 1]\n",
    "])\n",
    "\n",
    "model = Sequential()\n",
    "embedding_layer = Embedding(input_dim=3, output_dim=3, input_length=2)\n",
    "model.add(embedding_layer)\n",
    "model.compile('adam', 'mse')\n",
    "\n",
    "embedding_layer.set_weights([embedding_lookup])\n"
   ]
  },
  {
   "cell_type": "markdown",
   "metadata": {
    "id": "oQ_bVdtkoBZW"
   },
   "source": [
    "We have the following parameters for the Embedding layer:\n",
    "    \n",
    "* input_dim=3 - There are three different integer categorical values allowed.\n",
    "* output_dim=3 - Three columns represent a categorical value with three possible values per one-hot encoding.\n",
    "* input_length=2 - The input vector has two of these categorical values.\n",
    "\n",
    "We query the neural network with two categorical values to see the lookup performed."
   ]
  },
  {
   "cell_type": "code",
   "execution_count": null,
   "metadata": {
    "colab": {
     "base_uri": "https://localhost:8080/"
    },
    "id": "ufBqgk6joBZW",
    "outputId": "3e54206d-3c56-47b8-ab17-98b1c1111ec3"
   },
   "outputs": [
    {
     "name": "stdout",
     "output_type": "stream",
     "text": [
      "(1, 2)\n",
      "[[[1. 0. 0.]\n",
      "  [0. 1. 0.]]]\n"
     ]
    }
   ],
   "source": [
    "input_data = np.array([\n",
    "    [0, 1]\n",
    "])\n",
    "\n",
    "pred = model.predict(input_data)\n",
    "\n",
    "print(input_data.shape)\n",
    "print(pred)\n"
   ]
  },
  {
   "cell_type": "markdown",
   "metadata": {
    "id": "pX76cE9HoBZW"
   },
   "source": [
    "The given output shows that we provided the program with two rows from the one-hot encoding table. This encoding is a correct one-hot encoding for the values 0 and 1, where there are up to 3 unique values possible. \n",
    "\n",
    "The following section demonstrates how to train this embedding lookup table.\n",
    "\n",
    "## Training an Embedding\n",
    "\n",
    "First, we make use of the following imports."
   ]
  },
  {
   "cell_type": "code",
   "execution_count": null,
   "metadata": {
    "id": "mb-nwgKhoBZX"
   },
   "outputs": [],
   "source": [
    "from numpy import array\n",
    "from tensorflow.keras.preprocessing.text import one_hot\n",
    "from tensorflow.keras.preprocessing.sequence import pad_sequences\n",
    "from tensorflow.keras.models import Sequential\n",
    "from tensorflow.keras.layers import Flatten, Embedding, Dense"
   ]
  },
  {
   "cell_type": "markdown",
   "metadata": {
    "id": "dJ7UlNZfoBZX"
   },
   "source": [
    "We create a neural network that classifies restaurant reviews according to positive or negative.  This neural network can accept strings as input, such as given here.  This code also includes positive or negative labels for each review."
   ]
  },
  {
   "cell_type": "code",
   "execution_count": null,
   "metadata": {
    "id": "vr20wr0ZoBZX"
   },
   "outputs": [],
   "source": [
    "# Define 10 resturant reviews.\n",
    "reviews = [\n",
    "    'Never coming back!',\n",
    "    'Horrible service',\n",
    "    'Rude waitress',\n",
    "    'Cold food.',\n",
    "    'Horrible food!',\n",
    "    'Awesome',\n",
    "    'Awesome service!',\n",
    "    'Rocks!',\n",
    "    'poor work',\n",
    "    'Couldn\\'t have done better']\n",
    "\n",
    "# Define labels (1=negative, 0=positive)\n",
    "labels = array([1, 1, 1, 1, 1, 0, 0, 0, 0, 0])\n"
   ]
  },
  {
   "cell_type": "markdown",
   "metadata": {
    "id": "ID5bpFo2oBZX"
   },
   "source": [
    "Notice that the second to the last label is incorrect.  Errors such as this are not too out of the ordinary, as most training data could have some noise.\n",
    "\n",
    "We define a vocabulary size of 50 words.  Though we do not have 50 words, it is okay to use a value larger than needed.  If there are more than 50 words, the least frequently used words in the training set are automatically dropped by the embedding layer during training.  For input, we one-hot encode the strings.  We use the TensorFlow one-hot encoding method here rather than Scikit-Learn. Scikit-learn would expand these strings to the 0's and 1's as we would typically see for dummy variables.  TensorFlow translates all words to index values and replaces each word with that index."
   ]
  },
  {
   "cell_type": "code",
   "execution_count": null,
   "metadata": {
    "colab": {
     "base_uri": "https://localhost:8080/"
    },
    "id": "aq0ph8hYoBZX",
    "outputId": "886877b4-2ce1-48d3-bb68-61bbd5785b42"
   },
   "outputs": [
    {
     "name": "stdout",
     "output_type": "stream",
     "text": [
      "Encoded reviews: [[40, 43, 7], [27, 31], [49, 46], [2, 28], [27, 28], [20], [20, 31], [39], [18, 39], [11, 3, 18, 11]]\n"
     ]
    }
   ],
   "source": [
    "VOCAB_SIZE = 50\n",
    "encoded_reviews = [one_hot(d, VOCAB_SIZE) for d in reviews]\n",
    "print(f\"Encoded reviews: {encoded_reviews}\")\n"
   ]
  },
  {
   "cell_type": "markdown",
   "metadata": {
    "id": "XQ2VeMHGoBZX"
   },
   "source": [
    "The program one-hot encodes these reviews to word indexes; however, their lengths are different.  We pad these reviews to 4 words and truncate any words beyond the fourth word."
   ]
  },
  {
   "cell_type": "code",
   "execution_count": null,
   "metadata": {
    "colab": {
     "base_uri": "https://localhost:8080/"
    },
    "id": "tfrvYtaBoBZX",
    "outputId": "877076a6-c379-4b4f-c94b-0db19ae4d61b"
   },
   "outputs": [
    {
     "name": "stdout",
     "output_type": "stream",
     "text": [
      "[[40 43  7  0]\n",
      " [27 31  0  0]\n",
      " [49 46  0  0]\n",
      " [ 2 28  0  0]\n",
      " [27 28  0  0]\n",
      " [20  0  0  0]\n",
      " [20 31  0  0]\n",
      " [39  0  0  0]\n",
      " [18 39  0  0]\n",
      " [11  3 18 11]]\n"
     ]
    }
   ],
   "source": [
    "MAX_LENGTH = 4\n",
    "\n",
    "padded_reviews = pad_sequences(encoded_reviews, maxlen=MAX_LENGTH,\n",
    "                               padding='post')\n",
    "print(padded_reviews)\n"
   ]
  },
  {
   "cell_type": "markdown",
   "metadata": {
    "id": "nwMJm4ztoBZX"
   },
   "source": [
    "As specified by the **padding=post** setting, each review is padded by appending zeros at the end, as specified by the **padding=post** setting.\n",
    "\n",
    "Next, we create a neural network to learn to classify these reviews. "
   ]
  },
  {
   "cell_type": "code",
   "execution_count": null,
   "metadata": {
    "colab": {
     "base_uri": "https://localhost:8080/"
    },
    "id": "GK2yiTFRoBZX",
    "outputId": "c23f9d36-ae89-4ef6-9e1a-788f1977b918"
   },
   "outputs": [
    {
     "name": "stdout",
     "output_type": "stream",
     "text": [
      "Model: \"sequential_2\"\n",
      "_________________________________________________________________\n",
      " Layer (type)                Output Shape              Param #   \n",
      "=================================================================\n",
      " embedding_2 (Embedding)     (None, 4, 8)              400       \n",
      "                                                                 \n",
      " flatten (Flatten)           (None, 32)                0         \n",
      "                                                                 \n",
      " dense (Dense)               (None, 1)                 33        \n",
      "                                                                 \n",
      "=================================================================\n",
      "Total params: 433\n",
      "Trainable params: 433\n",
      "Non-trainable params: 0\n",
      "_________________________________________________________________\n",
      "None\n"
     ]
    }
   ],
   "source": [
    "model = Sequential()\n",
    "embedding_layer = Embedding(VOCAB_SIZE, 8, input_length=MAX_LENGTH)\n",
    "model.add(embedding_layer)\n",
    "model.add(Flatten())\n",
    "model.add(Dense(1, activation='sigmoid'))\n",
    "model.compile(optimizer='adam', loss='binary_crossentropy',\n",
    "              metrics=['acc'])\n",
    "\n",
    "print(model.summary())\n"
   ]
  },
  {
   "cell_type": "markdown",
   "metadata": {
    "id": "jvpQk1GXoBZX"
   },
   "source": [
    "This network accepts four integer inputs that specify the indexes of a padded movie review. The first embedding layer converts these four indexes into four length vectors 8. These vectors come from the lookup table that contains 50 (VOCAB_SIZE) rows of vectors of length 8. This encoding is evident by the 400 (8 times 50) parameters in the embedding layer. The output size from the embedding layer is 32 (4 words expressed as 8-number embedded vectors). A single output neuron is connected to the embedding layer by 33 weights (32 from the embedding layer and a single bias neuron). Because this is a single-class classification network, we use the sigmoid activation function and binary_crossentropy.\n",
    "\n",
    "The program now trains the neural network. The embedding lookup and dense 33 weights are updated to produce a better score."
   ]
  },
  {
   "cell_type": "code",
   "execution_count": null,
   "metadata": {
    "colab": {
     "base_uri": "https://localhost:8080/"
    },
    "id": "BkRJvhz7oBZY",
    "outputId": "49c3fb2f-ae02-4627-dee1-896e516eb446"
   },
   "outputs": [
    {
     "data": {
      "text/plain": [
       "<keras.callbacks.History at 0x7fd87794c4d0>"
      ]
     },
     "execution_count": 13,
     "metadata": {},
     "output_type": "execute_result"
    }
   ],
   "source": [
    "# fit the model\n",
    "model.fit(padded_reviews, labels, epochs=100, verbose=0)\n"
   ]
  },
  {
   "cell_type": "markdown",
   "metadata": {
    "id": "m8306knWoBZY"
   },
   "source": [
    "We can see the learned embeddings.  Think of each word's vector as a location in the 8 dimension space where words associated with positive reviews are close to other words.  Similarly, training places negative reviews close to each other.  In addition to the training setting these embeddings, the 33 weights between the embedding layer and output neuron similarly learn to transform these embeddings into an actual prediction.  You can see these embeddings here."
   ]
  },
  {
   "cell_type": "code",
   "execution_count": null,
   "metadata": {
    "colab": {
     "base_uri": "https://localhost:8080/"
    },
    "id": "bt_4XhUooBZY",
    "outputId": "a1e0e5f5-ca83-45dc-ae17-9277b46ccf34"
   },
   "outputs": [
    {
     "name": "stdout",
     "output_type": "stream",
     "text": [
      "(50, 8)\n",
      "[array([[-0.11389559, -0.04778124,  0.10034387,  0.12887037,  0.05670259,\n",
      "        -0.09982903, -0.15423775, -0.06774805],\n",
      "       [-0.04839246,  0.00527745,  0.0084306 , -0.03498586,  0.010772  ,\n",
      "         0.04015711,  0.03564452, -0.00849336],\n",
      "       [-0.11003157, -0.05829103,  0.12370535, -0.07124459, -0.0667479 ,\n",
      "        -0.14339209, -0.13791779, -0.13947721],\n",
      "       [-0.15395765, -0.08560142, -0.15915371, -0.0882007 ,  0.15756004,\n",
      "        -0.10337664, -0.12412377, -0.10282961],\n",
      "       [ 0.04919637, -0.00870635, -0.02393281,  0.04445953,  0.0124351 ,\n",
      "         0.02354855, -0.02476437,  0.04543931],\n",
      "       [-0.00503131,  0.01302261, -0.02866241,  0.04487506, -0.04427315,\n",
      "         0.00651342, -0.02796236,  0.03458978],\n",
      "       [-0.03738759, -0.00135366,  0.04961893, -0.04076886, -0.0007545 ,\n",
      "         0.03454826,  0.03419926, -0.00689811],\n",
      "       [ 0.14487585,  0.14052217, -0.08246625, -0.08622362,  0.10270283,\n",
      "        -0.06439426, -0.16649802, -0.11733696],\n",
      "       [-0.01337775,  0.00189237, -0.04226214, -0.02981731, -0.04849073,\n",
      "         0.0464913 , -0.04499427, -0.04841725],\n",
      "       [-0.01929135, -0.02657523, -0.0335291 ,  0.04808146,  0.02409947,\n",
      "        -0.03780599,  0.03453754,  0.00598647],\n",
      "       [ 0.03076488, -0.03929596,  0.00840779, -0.03980947,  0.04209021,\n",
      "        -0.00642526,  0.03741593,  0.04605447],\n",
      "       [ 0.11537231, -0.10763969, -0.06139125,  0.07191044,  0.05322507,\n",
      "         0.15153708, -0.14278722,  0.11250742],\n",
      "       [-0.04048342, -0.02535482, -0.01568266, -0.02351468,  0.00865855,\n",
      "         0.04086712, -0.03859865,  0.0365578 ],\n",
      "       [-0.0009298 , -0.0311846 , -0.03491043, -0.00289371,  0.00757905,\n",
      "        -0.03187181, -0.02323085, -0.01488547],\n",
      "       [ 0.0320026 ,  0.03818611,  0.00219003, -0.03297286, -0.03609738,\n",
      "        -0.00905116, -0.00735079, -0.0369678 ],\n",
      "       [ 0.04876169,  0.04988963, -0.01918377,  0.02061111, -0.03650783,\n",
      "         0.00809064,  0.00043495, -0.02308334],\n",
      "       [-0.02140537,  0.02220272,  0.00469884,  0.0342283 ,  0.01847946,\n",
      "         0.02940113, -0.04855499,  0.02044804],\n",
      "       [-0.00828004, -0.0079689 ,  0.01667002,  0.0414703 , -0.01305557,\n",
      "         0.04526286, -0.01467935,  0.01147614],\n",
      "       [-0.14282468, -0.08361981, -0.11100344,  0.1147782 ,  0.13931683,\n",
      "         0.05983332,  0.16483088,  0.09642172],\n",
      "       [-0.04617438,  0.04929153,  0.0485074 , -0.02250378,  0.01294557,\n",
      "        -0.0425485 , -0.01274359,  0.00403596],\n",
      "       [ 0.08578632,  0.10722891, -0.10169367,  0.05640666,  0.13935997,\n",
      "         0.07905768,  0.0912255 ,  0.14614286],\n",
      "       [-0.02422597, -0.02895569,  0.02458526, -0.02941357,  0.03783615,\n",
      "         0.0217586 ,  0.04737884,  0.03385517],\n",
      "       [-0.01605659,  0.02846745, -0.04217149,  0.00933688, -0.015615  ,\n",
      "        -0.0185383 ,  0.03455376,  0.0217413 ],\n",
      "       [-0.02496419, -0.01964381, -0.01747011, -0.0086274 , -0.00279769,\n",
      "        -0.00473202,  0.04959089, -0.02818167],\n",
      "       [-0.01308316,  0.0437695 , -0.01201218, -0.00937818, -0.03936937,\n",
      "         0.03369248,  0.01404865,  0.01300433],\n",
      "       [-0.03047577, -0.04215126, -0.03603753, -0.01572833,  0.04595536,\n",
      "        -0.01445602,  0.02598487, -0.03712183],\n",
      "       [ 0.04174629,  0.030602  , -0.01565778,  0.01411921, -0.03829115,\n",
      "         0.02699218, -0.03978034, -0.00037332],\n",
      "       [-0.05509803, -0.12121415,  0.12930614, -0.14208739, -0.05467908,\n",
      "        -0.10421305, -0.1347957 , -0.09714746],\n",
      "       [ 0.14368567,  0.14523256,  0.15996216,  0.07271292, -0.10887505,\n",
      "         0.07155557,  0.10750765,  0.14647684],\n",
      "       [-0.04667553, -0.00594231, -0.04209081, -0.01220823, -0.02044651,\n",
      "         0.02359882,  0.01033651, -0.01691378],\n",
      "       [ 0.02788267, -0.0466502 , -0.04354659, -0.04944308,  0.00530468,\n",
      "         0.03017677,  0.01628789,  0.00456915],\n",
      "       [ 0.09592342,  0.05642203,  0.03576508,  0.06546731, -0.03308697,\n",
      "         0.03154759,  0.00280966,  0.03369548],\n",
      "       [-0.00399817, -0.02812622, -0.00763954, -0.003208  ,  0.04371027,\n",
      "        -0.03186812,  0.01646887, -0.04135863],\n",
      "       [ 0.00120915,  0.00111195,  0.01940939,  0.0100676 ,  0.02689103,\n",
      "        -0.02420806,  0.04829462, -0.00500059],\n",
      "       [-0.00374997,  0.00533805,  0.01584294, -0.01231242, -0.02583057,\n",
      "        -0.00426785, -0.01593303,  0.03316021],\n",
      "       [-0.00542512, -0.02522955,  0.01944559,  0.04694534,  0.01956921,\n",
      "        -0.04743705,  0.01203604, -0.04249186],\n",
      "       [ 0.04021386, -0.00147871, -0.03729609, -0.04367838, -0.02620382,\n",
      "        -0.03366937, -0.04764401,  0.01843042],\n",
      "       [-0.04885202, -0.04030935, -0.02691921, -0.04069231,  0.00133073,\n",
      "         0.04187706,  0.01700257, -0.0269224 ],\n",
      "       [-0.04759267, -0.02806743, -0.02340071,  0.04413268,  0.04873205,\n",
      "        -0.02571398,  0.02112493,  0.01220033],\n",
      "       [ 0.03645799,  0.04670727, -0.14964601,  0.06317957,  0.12738568,\n",
      "        -0.05583218, -0.07265829, -0.11887868],\n",
      "       [-0.0461492 , -0.14710744,  0.14215472, -0.08502222, -0.11263344,\n",
      "        -0.10313905, -0.09941045, -0.0613514 ],\n",
      "       [-0.01235803, -0.03596945,  0.04333005, -0.02633744,  0.0076986 ,\n",
      "        -0.02331397, -0.02244077,  0.02170218],\n",
      "       [ 0.02890852, -0.02253481, -0.04383245, -0.00917351,  0.01134578,\n",
      "         0.0413558 , -0.00813813,  0.03958623],\n",
      "       [ 0.13829918,  0.0676541 ,  0.16875601,  0.04536283, -0.12547925,\n",
      "         0.13549416,  0.06408142,  0.1365626 ],\n",
      "       [ 0.02720174,  0.02317807, -0.01934367,  0.03661523, -0.00081351,\n",
      "        -0.00664594, -0.01546872,  0.00292607],\n",
      "       [ 0.03418565, -0.02236365, -0.03703803,  0.01724467, -0.02788099,\n",
      "        -0.01143361, -0.00885036, -0.00753104],\n",
      "       [ 0.11629202,  0.08401583,  0.12823549,  0.04578856, -0.10711329,\n",
      "         0.12236115,  0.12761551,  0.12674938],\n",
      "       [-0.01328101,  0.01608239, -0.02894524,  0.03419088,  0.04457787,\n",
      "         0.02493219,  0.04973162,  0.03453101],\n",
      "       [-0.00029699, -0.0425287 ,  0.02509956, -0.00861088,  0.04153964,\n",
      "        -0.04445877, -0.00612149, -0.03430663],\n",
      "       [-0.08493928, -0.10910758,  0.0605178 , -0.10072854, -0.11677803,\n",
      "        -0.05648913, -0.13342443, -0.08516318]], dtype=float32)]\n"
     ]
    }
   ],
   "source": [
    "print(embedding_layer.get_weights()[0].shape)\n",
    "print(embedding_layer.get_weights())\n"
   ]
  },
  {
   "cell_type": "markdown",
   "metadata": {
    "id": "X7sIWHLvoBZY"
   },
   "source": [
    "We can now evaluate this neural network's accuracy, including the embeddings and the learned dense layer.  "
   ]
  },
  {
   "cell_type": "code",
   "execution_count": null,
   "metadata": {
    "colab": {
     "base_uri": "https://localhost:8080/"
    },
    "id": "of3oQrPxoBZY",
    "outputId": "d33fc5a1-97bc-4b55-ed99-f2ed4a7e3999"
   },
   "outputs": [
    {
     "name": "stdout",
     "output_type": "stream",
     "text": [
      "Accuracy: 1.0\n"
     ]
    }
   ],
   "source": [
    "loss, accuracy = model.evaluate(padded_reviews, labels, verbose=0)\n",
    "print(f'Accuracy: {accuracy}')\n"
   ]
  },
  {
   "cell_type": "markdown",
   "metadata": {
    "id": "PMmvVz92oBZY"
   },
   "source": [
    "The accuracy is a perfect 1.0, indicating there is likely overfitting. It would be good to use early stopping to not overfit for a more complex data set."
   ]
  },
  {
   "cell_type": "code",
   "execution_count": null,
   "metadata": {
    "colab": {
     "base_uri": "https://localhost:8080/"
    },
    "id": "DkkNptWOoBZY",
    "outputId": "38c38dfa-d4fa-4728-b507-2157d0ce5ed4"
   },
   "outputs": [
    {
     "name": "stdout",
     "output_type": "stream",
     "text": [
      "Log-loss: 0.48446863889694214\n"
     ]
    }
   ],
   "source": [
    "print(f'Log-loss: {loss}')\n"
   ]
  },
  {
   "cell_type": "markdown",
   "metadata": {
    "id": "X7pZXMn7oBZY"
   },
   "source": [
    "However, the loss is not perfect. Even though the predicted probabilities indicated a correct prediction in every case, the program did not achieve absolute confidence in each correct answer. The lack of confidence was likely due to the small amount of noise (previously discussed) in the data set. Some words that appeared in both positive and negative reviews contributed to this lack of absolute certainty. "
   ]
  },
  {
   "cell_type": "code",
   "execution_count": null,
   "metadata": {
    "id": "pgiWS_dMoBZY"
   },
   "outputs": [],
   "source": []
  }
 ],
 "metadata": {
  "anaconda-cloud": {},
  "colab": {
   "collapsed_sections": [],
   "name": "t81_558_class_11_05_embedding.ipynb",
   "provenance": []
  },
  "kernelspec": {
   "display_name": "Python 3.9 (tensorflow)",
   "language": "python",
   "name": "tensorflow"
  },
  "language_info": {
   "codemirror_mode": {
    "name": "ipython",
    "version": 3
   },
   "file_extension": ".py",
   "mimetype": "text/x-python",
   "name": "python",
   "nbconvert_exporter": "python",
   "pygments_lexer": "ipython3",
   "version": "3.9.7"
  },
  "varInspector": {
   "cols": {
    "lenName": 16,
    "lenType": 16,
    "lenVar": 40
   },
   "kernels_config": {
    "python": {
     "delete_cmd_postfix": "",
     "delete_cmd_prefix": "del ",
     "library": "var_list.py",
     "varRefreshCmd": "print(var_dic_list())"
    },
    "r": {
     "delete_cmd_postfix": ") ",
     "delete_cmd_prefix": "rm(",
     "library": "var_list.r",
     "varRefreshCmd": "cat(var_dic_list()) "
    }
   },
   "types_to_exclude": [
    "module",
    "function",
    "builtin_function_or_method",
    "instance",
    "_Feature"
   ],
   "window_display": false
  }
 },
 "nbformat": 4,
 "nbformat_minor": 1
}
