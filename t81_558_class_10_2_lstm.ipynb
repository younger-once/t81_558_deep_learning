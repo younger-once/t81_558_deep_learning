{
 "cells": [
  {
   "cell_type": "markdown",
   "metadata": {
    "id": "tdSnFaggnD2W"
   },
   "source": [
    "<a href=\"https://colab.research.google.com/github/jeffheaton/t81_558_deep_learning/blob/master/t81_558_class_10_2_lstm.ipynb\" target=\"_parent\"><img src=\"https://colab.research.google.com/assets/colab-badge.svg\" alt=\"Open In Colab\"/></a>\n"
   ]
  },
  {
   "cell_type": "markdown",
   "metadata": {
    "id": "gc4uQ-bYnD2Y"
   },
   "source": [
    "# T81-558: Applications of Deep Neural Networks\n",
    "**Module 10: Time Series in Keras**\n",
    "* Instructor: [Jeff Heaton](https://sites.wustl.edu/jeffheaton/), McKelvey School of Engineering, [Washington University in St. Louis](https://engineering.wustl.edu/Programs/Pages/default.aspx)\n",
    "* For more information visit the [class website](https://sites.wustl.edu/jeffheaton/t81-558/)."
   ]
  },
  {
   "cell_type": "markdown",
   "metadata": {
    "id": "QFj4U9c8nD2Y"
   },
   "source": [
    "# Module 10 Material\n",
    "\n",
    "* Part 10.1: Time Series Data Encoding for Deep Learning [[Video]](https://www.youtube.com/watch?v=dMUmHsktl04&list=PLjy4p-07OYzulelvJ5KVaT2pDlxivl_BN) [[Notebook]](https://github.com/jeffheaton/t81_558_deep_learning/blob/master/t81_558_class_10_1_timeseries.ipynb)\n",
    "* **Part 10.2: Programming LSTM with Keras and TensorFlow** [[Video]](https://www.youtube.com/watch?v=wY0dyFgNCgY&list=PLjy4p-07OYzulelvJ5KVaT2pDlxivl_BN) [[Notebook]](https://github.com/jeffheaton/t81_558_deep_learning/blob/master/t81_558_class_10_2_lstm.ipynb)\n",
    "* Part 10.3: Text Generation with Keras and TensorFlow [[Video]](https://www.youtube.com/watch?v=6ORnRAz3gnA&list=PLjy4p-07OYzulelvJ5KVaT2pDlxivl_BN) [[Notebook]](https://github.com/jeffheaton/t81_558_deep_learning/blob/master/t81_558_class_10_3_text_generation.ipynb)\n",
    "* Part 10.4: Introduction to Transformers [[Video]](https://www.youtube.com/watch?v=Z7FIdKVQ7kc&list=PLjy4p-07OYzulelvJ5KVaT2pDlxivl_BN) [[Notebook]](https://github.com/jeffheaton/t81_558_deep_learning/blob/master/t81_558_class_10_4_intro_transformers.ipynb)\n",
    "* Part 10.5: Transformers for Timeseries [[Video]](https://www.youtube.com/watch?v=SX67Mni0Or4&list=PLjy4p-07OYzulelvJ5KVaT2pDlxivl_BN) [[Notebook]](https://github.com/jeffheaton/t81_558_deep_learning/blob/master/t81_558_class_10_5_keras_transformers.ipynb)"
   ]
  },
  {
   "cell_type": "markdown",
   "metadata": {
    "id": "5MtBKuaZnD2Z"
   },
   "source": [
    "# Google CoLab Instructions\n",
    "\n",
    "The following code ensures that Google CoLab is running the correct version of TensorFlow.\n",
    "  Running the following code will map your GDrive to ```/content/drive```."
   ]
  },
  {
   "cell_type": "code",
   "execution_count": 1,
   "metadata": {
    "colab": {
     "base_uri": "https://localhost:8080/"
    },
    "id": "nT6Wli6knD2Z",
    "outputId": "91564a14-b4c6-41e8-90bc-d62bbab8be8c"
   },
   "outputs": [
    {
     "name": "stdout",
     "output_type": "stream",
     "text": [
      "Mounted at /content/drive\n",
      "Note: using Google CoLab\n"
     ]
    }
   ],
   "source": [
    "try:\n",
    "    from google.colab import drive\n",
    "    drive.mount('/content/drive', force_remount=True)\n",
    "    COLAB = True\n",
    "    print(\"Note: using Google CoLab\")\n",
    "    %tensorflow_version 2.x\n",
    "except:\n",
    "    print(\"Note: not using Google CoLab\")\n",
    "    COLAB = False"
   ]
  },
  {
   "cell_type": "markdown",
   "metadata": {
    "id": "_RH3-887nD2a"
   },
   "source": [
    "# Part 10.2: Programming LSTM with Keras and TensorFlow\n",
    "\n",
    "So far, the neural networks that we’ve examined have always had forward connections. Neural networks of this type always begin with an input layer connected to the first hidden layer. Each hidden layer always connects to the next hidden layer. The final hidden layer always connects to the output layer. This manner of connection is why these networks are called “feedforward.”  Recurrent neural networks are not as rigid, as backward linkages are also allowed. A recurrent connection links a neuron in a layer to either a previous layer or the neuron itself. Most recurrent neural network architectures maintain the state in the recurrent connections. Feedforward neural networks don’t keep any state. \n",
    "\n",
    "## Understanding LSTM\n",
    "\n",
    "Long Short Term Memory (LSTM) layers are a type of recurrent unit that you often use with deep neural networks.[[Cite:hochreiter1997long]](http://citeseerx.ist.psu.edu/viewdoc/download?doi=10.1.1.676.4320) For TensorFlow, you can think of LSTM as a layer type that you can combine with other layer types, such as dense. LSTM makes use of two transfer function types internally.  \n",
    "\n",
    "The first type of transfer function is the sigmoid.  This transfer function type is used form gates inside of the unit.  The sigmoid transfer function is given by the following equation:\n",
    "\n",
    "$ \\mbox{S}(t) = \\frac{1}{1 + e^{-t}} $\n",
    "\n",
    "The second type of transfer function is the hyperbolic tangent (tanh) function, which allows you to scale the output of the LSTM. This functionality is similar to how we have used other transfer functions in this course.  \n",
    "\n",
    "We provide the graphs for these functions here:"
   ]
  },
  {
   "cell_type": "code",
   "execution_count": 2,
   "metadata": {
    "colab": {
     "base_uri": "https://localhost:8080/",
     "height": 548
    },
    "id": "aK4KCNPEnD2a",
    "outputId": "ea41b49e-8e52-4bcd-ce4e-42d1b2d8c9bd"
   },
   "outputs": [
    {
     "name": "stdout",
     "output_type": "stream",
     "text": [
      "Sigmoid\n"
     ]
    },
    {
     "data": {
      "image/png": "[encoded data removed]",
      "text/plain": [
       "<Figure size 432x288 with 1 Axes>"
      ]
     },
     "metadata": {
      "needs_background": "light"
     },
     "output_type": "display_data"
    },
    {
     "name": "stdout",
     "output_type": "stream",
     "text": [
      "Hyperbolic Tangent(tanh)\n"
     ]
    },
    {
     "data": {
      "image/png": "[encoded data removed]",
      "text/plain": [
       "<Figure size 432x288 with 1 Axes>"
      ]
     },
     "metadata": {
      "needs_background": "light"
     },
     "output_type": "display_data"
    }
   ],
   "source": [
    "%matplotlib inline\n",
    "\n",
    "import matplotlib\n",
    "import numpy as np\n",
    "import matplotlib.pyplot as plt\n",
    "import math\n",
    "\n",
    "def sigmoid(x):\n",
    "    a = []\n",
    "    for item in x:\n",
    "        a.append(1/(1+math.exp(-item)))\n",
    "    return a\n",
    "\n",
    "def f2(x):\n",
    "    a = []\n",
    "    for item in x:\n",
    "        a.append(math.tanh(item))\n",
    "    return a\n",
    "\n",
    "x = np.arange(-10., 10., 0.2)\n",
    "y1 = sigmoid(x)\n",
    "y2 = f2(x)\n",
    "\n",
    "print(\"Sigmoid\")\n",
    "plt.plot(x,y1)\n",
    "plt.show()\n",
    "\n",
    "print(\"Hyperbolic Tangent(tanh)\")\n",
    "plt.plot(x,y2)\n",
    "plt.show()"
   ]
  },
  {
   "cell_type": "markdown",
   "metadata": {
    "id": "jyCPwHyfnD2b"
   },
   "source": [
    "Both of these two functions compress their output to a specific range.  For the sigmoid function, this range is 0 to 1.  For the hyperbolic tangent function, this range is -1 to 1.\n",
    "\n",
    "LSTM maintains an internal state and produces an output.  The following diagram shows an LSTM unit over three timeslices: the current time slice (t), as well as the previous (t-1) and next (t+1) slice, as demonstrated by Figure 10.LSTM.\n",
    "\n",
    "**Figure 10.LSTM: LSTM Layers**\n",
    "![LSTM Layers](https://raw.githubusercontent.com/jeffheaton/t81_558_deep_learning/master/images/class_10_lstm1.png \"LSTM Layers\")\n",
    "\n",
    "The values $\\hat{y}$ are the output from the unit; the values ($x$) are the input to the unit, and the values $c$ are the context values.  The output and context values always feed their output to the next time slice.  The context values allow the network to maintain the state between calls.  Figure 10.ILSTM shows the internals of a LSTM layer.\n",
    "\n",
    "**Figure 10.ILSTM: Inside a LSTM Layer**\n",
    "![LSTM Layers](https://raw.githubusercontent.com/jeffheaton/t81_558_deep_learning/master/images/class_10_lstm2.png \"Inside the LSTM\")\n",
    "\n",
    "A LSTM unit consists of three gates:\n",
    "\n",
    "* Forget Gate ($f_t$) - Controls if/when the context is forgotten. (MC)\n",
    "* Input Gate ($i_t$) - Controls if/when the context should remember a value. (M+/MS)\n",
    "* Output Gate ($o_t$) - Controls if/when the remembered value is allowed to pass from the unit. (RM)\n"
   ]
  },
  {
   "cell_type": "markdown",
   "metadata": {
    "id": "J0mVhDjAnD2c"
   },
   "source": [
    "## Simple Keras LSTM Example\n",
    "\n",
    "The following code creates the LSTM network, an example of an RNN for classification.  The following code trains on a data set (x) with a max sequence size of 6 (columns) and six training elements (rows)"
   ]
  },
  {
   "cell_type": "code",
   "execution_count": 3,
   "metadata": {
    "colab": {
     "base_uri": "https://localhost:8080/"
    },
    "id": "-lBrvaWKnD2c",
    "outputId": "6cb64779-fe1b-40ce-fdf6-c504d479a1bc"
   },
   "outputs": [
    {
     "name": "stdout",
     "output_type": "stream",
     "text": [
      "[[0. 1. 0. 0.]\n",
      " [0. 0. 1. 0.]\n",
      " [0. 0. 0. 1.]\n",
      " [0. 0. 1. 0.]\n",
      " [0. 0. 0. 1.]\n",
      " [0. 1. 0. 0.]]\n",
      "Build model...\n",
      "Train...\n",
      "Epoch 1/200\n",
      "1/1 [==============================] - 6s 6s/step - loss: 0.6885 - accuracy: 0.3333\n",
      "Epoch 2/200\n",
      "1/1 [==============================] - 0s 45ms/step - loss: 0.6807 - accuracy: 0.3333\n",
      "Epoch 3/200\n",
      "1/1 [==============================] - 0s 38ms/step - loss: 0.6773 - accuracy: 0.3333\n",
      "Epoch 4/200\n",
      "1/1 [==============================] - 0s 37ms/step - loss: 0.6684 - accuracy: 0.3333\n",
      "Epoch 5/200\n",
      "1/1 [==============================] - 0s 33ms/step - loss: 0.6556 - accuracy: 0.3333\n",
      "Epoch 6/200\n",
      "1/1 [==============================] - 0s 37ms/step - loss: 0.6555 - accuracy: 0.3333\n",
      "Epoch 7/200\n",
      "1/1 [==============================] - 0s 31ms/step - loss: 0.6397 - accuracy: 0.1667\n",
      "Epoch 8/200\n",
      "1/1 [==============================] - 0s 40ms/step - loss: 0.6376 - accuracy: 0.3333\n",
      "Epoch 9/200\n",
      "1/1 [==============================] - 0s 39ms/step - loss: 0.6302 - accuracy: 0.3333\n",
      "Epoch 10/200\n",
      "1/1 [==============================] - 0s 39ms/step - loss: 0.6217 - accuracy: 0.5000\n",
      "Epoch 11/200\n",
      "1/1 [==============================] - 0s 52ms/step - loss: 0.6196 - accuracy: 0.6667\n",
      "Epoch 12/200\n",
      "1/1 [==============================] - 0s 41ms/step - loss: 0.6009 - accuracy: 0.5000\n",
      "Epoch 13/200\n",
      "1/1 [==============================] - 0s 34ms/step - loss: 0.6049 - accuracy: 0.3333\n",
      "Epoch 14/200\n",
      "1/1 [==============================] - 0s 42ms/step - loss: 0.5894 - accuracy: 0.3333\n",
      "Epoch 15/200\n",
      "1/1 [==============================] - 0s 23ms/step - loss: 0.5853 - accuracy: 0.3333\n",
      "Epoch 16/200\n",
      "1/1 [==============================] - 0s 31ms/step - loss: 0.5648 - accuracy: 0.3333\n",
      "Epoch 17/200\n",
      "1/1 [==============================] - 0s 51ms/step - loss: 0.5497 - accuracy: 0.3333\n",
      "Epoch 18/200\n",
      "1/1 [==============================] - 0s 39ms/step - loss: 0.5413 - accuracy: 0.3333\n",
      "Epoch 19/200\n",
      "1/1 [==============================] - 0s 70ms/step - loss: 0.5429 - accuracy: 0.3333\n",
      "Epoch 20/200\n",
      "1/1 [==============================] - 0s 32ms/step - loss: 0.5217 - accuracy: 0.3333\n",
      "Epoch 21/200\n",
      "1/1 [==============================] - 0s 53ms/step - loss: 0.5304 - accuracy: 0.3333\n",
      "Epoch 22/200\n",
      "1/1 [==============================] - 0s 58ms/step - loss: 0.5332 - accuracy: 0.3333\n",
      "Epoch 23/200\n",
      "1/1 [==============================] - 0s 52ms/step - loss: 0.5090 - accuracy: 0.3333\n",
      "Epoch 24/200\n",
      "1/1 [==============================] - 0s 55ms/step - loss: 0.5055 - accuracy: 0.3333\n",
      "Epoch 25/200\n",
      "1/1 [==============================] - 0s 47ms/step - loss: 0.5020 - accuracy: 0.3333\n",
      "Epoch 26/200\n",
      "1/1 [==============================] - 0s 47ms/step - loss: 0.5224 - accuracy: 0.1667\n",
      "Epoch 27/200\n",
      "1/1 [==============================] - 0s 32ms/step - loss: 0.5060 - accuracy: 0.1667\n",
      "Epoch 28/200\n",
      "1/1 [==============================] - 0s 50ms/step - loss: 0.5123 - accuracy: 0.1667\n",
      "Epoch 29/200\n",
      "1/1 [==============================] - 0s 42ms/step - loss: 0.4740 - accuracy: 0.5000\n",
      "Epoch 30/200\n",
      "1/1 [==============================] - 0s 40ms/step - loss: 0.5018 - accuracy: 0.3333\n",
      "Epoch 31/200\n",
      "1/1 [==============================] - 0s 32ms/step - loss: 0.4982 - accuracy: 0.3333\n",
      "Epoch 32/200\n",
      "1/1 [==============================] - 0s 42ms/step - loss: 0.4640 - accuracy: 0.3333\n",
      "Epoch 33/200\n",
      "1/1 [==============================] - 0s 47ms/step - loss: 0.4748 - accuracy: 0.5000\n",
      "Epoch 34/200\n",
      "1/1 [==============================] - 0s 50ms/step - loss: 0.4593 - accuracy: 0.5000\n",
      "Epoch 35/200\n",
      "1/1 [==============================] - 0s 47ms/step - loss: 0.4712 - accuracy: 0.3333\n",
      "Epoch 36/200\n",
      "1/1 [==============================] - 0s 47ms/step - loss: 0.4444 - accuracy: 0.5000\n",
      "Epoch 37/200\n",
      "1/1 [==============================] - 0s 46ms/step - loss: 0.4651 - accuracy: 0.5000\n",
      "Epoch 38/200\n",
      "1/1 [==============================] - 0s 41ms/step - loss: 0.4582 - accuracy: 0.5000\n",
      "Epoch 39/200\n",
      "1/1 [==============================] - 0s 39ms/step - loss: 0.4191 - accuracy: 0.5000\n",
      "Epoch 40/200\n",
      "1/1 [==============================] - 0s 45ms/step - loss: 0.4470 - accuracy: 0.5000\n",
      "Epoch 41/200\n",
      "1/1 [==============================] - 0s 79ms/step - loss: 0.4258 - accuracy: 0.5000\n",
      "Epoch 42/200\n",
      "1/1 [==============================] - 0s 35ms/step - loss: 0.4161 - accuracy: 0.6667\n",
      "Epoch 43/200\n",
      "1/1 [==============================] - 0s 43ms/step - loss: 0.4094 - accuracy: 0.6667\n",
      "Epoch 44/200\n",
      "1/1 [==============================] - 0s 25ms/step - loss: 0.4246 - accuracy: 0.6667\n",
      "Epoch 45/200\n",
      "1/1 [==============================] - 0s 33ms/step - loss: 0.4377 - accuracy: 0.3333\n",
      "Epoch 46/200\n",
      "1/1 [==============================] - 0s 37ms/step - loss: 0.4404 - accuracy: 0.3333\n",
      "Epoch 47/200\n",
      "1/1 [==============================] - 0s 35ms/step - loss: 0.4526 - accuracy: 0.3333\n",
      "Epoch 48/200\n",
      "1/1 [==============================] - 0s 34ms/step - loss: 0.4009 - accuracy: 0.8333\n",
      "Epoch 49/200\n",
      "1/1 [==============================] - 0s 30ms/step - loss: 0.4128 - accuracy: 0.5000\n",
      "Epoch 50/200\n",
      "1/1 [==============================] - 0s 39ms/step - loss: 0.3961 - accuracy: 0.6667\n",
      "Epoch 51/200\n",
      "1/1 [==============================] - 0s 36ms/step - loss: 0.4152 - accuracy: 0.6667\n",
      "Epoch 52/200\n",
      "1/1 [==============================] - 0s 31ms/step - loss: 0.3690 - accuracy: 0.8333\n",
      "Epoch 53/200\n",
      "1/1 [==============================] - 0s 30ms/step - loss: 0.4025 - accuracy: 0.6667\n",
      "Epoch 54/200\n",
      "1/1 [==============================] - 0s 40ms/step - loss: 0.3933 - accuracy: 0.6667\n",
      "Epoch 55/200\n",
      "1/1 [==============================] - 0s 34ms/step - loss: 0.4072 - accuracy: 0.8333\n",
      "Epoch 56/200\n",
      "1/1 [==============================] - 0s 34ms/step - loss: 0.4008 - accuracy: 0.6667\n",
      "Epoch 57/200\n",
      "1/1 [==============================] - 0s 30ms/step - loss: 0.3789 - accuracy: 0.6667\n",
      "Epoch 58/200\n",
      "1/1 [==============================] - 0s 51ms/step - loss: 0.3937 - accuracy: 0.6667\n",
      "Epoch 59/200\n",
      "1/1 [==============================] - 0s 36ms/step - loss: 0.3516 - accuracy: 0.6667\n",
      "Epoch 60/200\n",
      "1/1 [==============================] - 0s 32ms/step - loss: 0.3525 - accuracy: 0.8333\n",
      "Epoch 61/200\n",
      "1/1 [==============================] - 0s 31ms/step - loss: 0.3484 - accuracy: 1.0000\n",
      "Epoch 62/200\n",
      "1/1 [==============================] - 0s 53ms/step - loss: 0.3067 - accuracy: 0.8333\n",
      "Epoch 63/200\n",
      "1/1 [==============================] - 0s 40ms/step - loss: 0.3600 - accuracy: 0.5000\n",
      "Epoch 64/200\n",
      "1/1 [==============================] - 0s 37ms/step - loss: 0.4628 - accuracy: 0.1667\n",
      "Epoch 65/200\n",
      "1/1 [==============================] - 0s 62ms/step - loss: 0.4443 - accuracy: 0.5000\n",
      "Epoch 66/200\n",
      "1/1 [==============================] - 0s 33ms/step - loss: 0.3164 - accuracy: 0.8333\n",
      "Epoch 67/200\n",
      "1/1 [==============================] - 0s 42ms/step - loss: 0.3303 - accuracy: 0.8333\n",
      "Epoch 68/200\n",
      "1/1 [==============================] - 0s 35ms/step - loss: 0.3264 - accuracy: 0.8333\n",
      "Epoch 69/200\n",
      "1/1 [==============================] - 0s 29ms/step - loss: 0.3518 - accuracy: 0.5000\n",
      "Epoch 70/200\n",
      "1/1 [==============================] - 0s 27ms/step - loss: 0.2797 - accuracy: 0.8333\n",
      "Epoch 71/200\n",
      "1/1 [==============================] - 0s 29ms/step - loss: 0.3595 - accuracy: 0.5000\n",
      "Epoch 72/200\n",
      "1/1 [==============================] - 0s 29ms/step - loss: 0.3141 - accuracy: 0.6667\n",
      "Epoch 73/200\n",
      "1/1 [==============================] - 0s 35ms/step - loss: 0.2957 - accuracy: 0.8333\n",
      "Epoch 74/200\n",
      "1/1 [==============================] - 0s 33ms/step - loss: 0.3181 - accuracy: 0.8333\n",
      "Epoch 75/200\n",
      "1/1 [==============================] - 0s 39ms/step - loss: 0.3049 - accuracy: 0.6667\n",
      "Epoch 76/200\n",
      "1/1 [==============================] - 0s 32ms/step - loss: 0.3390 - accuracy: 0.6667\n",
      "Epoch 77/200\n",
      "1/1 [==============================] - 0s 31ms/step - loss: 0.3328 - accuracy: 0.6667\n",
      "Epoch 78/200\n",
      "1/1 [==============================] - 0s 41ms/step - loss: 0.3262 - accuracy: 0.6667\n",
      "Epoch 79/200\n",
      "1/1 [==============================] - 0s 34ms/step - loss: 0.2353 - accuracy: 0.8333\n",
      "Epoch 80/200\n",
      "1/1 [==============================] - 0s 34ms/step - loss: 0.3484 - accuracy: 0.6667\n",
      "Epoch 81/200\n",
      "1/1 [==============================] - 0s 26ms/step - loss: 0.4174 - accuracy: 0.6667\n",
      "Epoch 82/200\n",
      "1/1 [==============================] - 0s 32ms/step - loss: 0.2780 - accuracy: 0.8333\n",
      "Epoch 83/200\n",
      "1/1 [==============================] - 0s 30ms/step - loss: 0.3406 - accuracy: 0.5000\n",
      "Epoch 84/200\n",
      "1/1 [==============================] - 0s 42ms/step - loss: 0.2736 - accuracy: 0.6667\n",
      "Epoch 85/200\n",
      "1/1 [==============================] - 0s 35ms/step - loss: 0.3383 - accuracy: 0.6667\n",
      "Epoch 86/200\n",
      "1/1 [==============================] - 0s 51ms/step - loss: 0.3119 - accuracy: 0.6667\n",
      "Epoch 87/200\n",
      "1/1 [==============================] - 0s 21ms/step - loss: 0.5429 - accuracy: 0.3333\n",
      "Epoch 88/200\n",
      "1/1 [==============================] - 0s 33ms/step - loss: 0.2317 - accuracy: 0.8333\n",
      "Epoch 89/200\n",
      "1/1 [==============================] - 0s 30ms/step - loss: 0.4463 - accuracy: 0.5000\n",
      "Epoch 90/200\n",
      "1/1 [==============================] - 0s 39ms/step - loss: 0.3199 - accuracy: 0.6667\n",
      "Epoch 91/200\n",
      "1/1 [==============================] - 0s 39ms/step - loss: 0.2997 - accuracy: 0.8333\n",
      "Epoch 92/200\n",
      "1/1 [==============================] - 0s 53ms/step - loss: 0.3121 - accuracy: 0.8333\n",
      "Epoch 93/200\n",
      "1/1 [==============================] - 0s 24ms/step - loss: 0.3872 - accuracy: 0.5000\n",
      "Epoch 94/200\n",
      "1/1 [==============================] - 0s 30ms/step - loss: 0.3367 - accuracy: 0.5000\n",
      "Epoch 95/200\n",
      "1/1 [==============================] - 0s 33ms/step - loss: 0.3248 - accuracy: 0.6667\n",
      "Epoch 96/200\n",
      "1/1 [==============================] - 0s 34ms/step - loss: 0.3325 - accuracy: 0.6667\n",
      "Epoch 97/200\n",
      "1/1 [==============================] - 0s 32ms/step - loss: 0.3257 - accuracy: 0.6667\n",
      "Epoch 98/200\n",
      "1/1 [==============================] - 0s 33ms/step - loss: 0.3003 - accuracy: 0.6667\n",
      "Epoch 99/200\n",
      "1/1 [==============================] - 0s 34ms/step - loss: 0.3220 - accuracy: 0.6667\n",
      "Epoch 100/200\n",
      "1/1 [==============================] - 0s 33ms/step - loss: 0.2347 - accuracy: 0.8333\n",
      "Epoch 101/200\n",
      "1/1 [==============================] - 0s 35ms/step - loss: 0.3386 - accuracy: 0.6667\n",
      "Epoch 102/200\n",
      "1/1 [==============================] - 0s 30ms/step - loss: 0.3677 - accuracy: 0.5000\n",
      "Epoch 103/200\n",
      "1/1 [==============================] - 0s 43ms/step - loss: 0.2826 - accuracy: 0.6667\n",
      "Epoch 104/200\n",
      "1/1 [==============================] - 0s 42ms/step - loss: 0.3603 - accuracy: 0.6667\n",
      "Epoch 105/200\n",
      "1/1 [==============================] - 0s 35ms/step - loss: 0.2047 - accuracy: 0.8333\n",
      "Epoch 106/200\n",
      "1/1 [==============================] - 0s 36ms/step - loss: 0.2239 - accuracy: 0.8333\n",
      "Epoch 107/200\n",
      "1/1 [==============================] - 0s 62ms/step - loss: 0.2280 - accuracy: 0.8333\n",
      "Epoch 108/200\n",
      "1/1 [==============================] - 0s 34ms/step - loss: 0.2398 - accuracy: 0.8333\n",
      "Epoch 109/200\n",
      "1/1 [==============================] - 0s 32ms/step - loss: 0.2423 - accuracy: 0.8333\n",
      "Epoch 110/200\n",
      "1/1 [==============================] - 0s 25ms/step - loss: 0.2059 - accuracy: 0.8333\n",
      "Epoch 111/200\n",
      "1/1 [==============================] - 0s 28ms/step - loss: 0.3120 - accuracy: 0.6667\n",
      "Epoch 112/200\n",
      "1/1 [==============================] - 0s 29ms/step - loss: 0.5211 - accuracy: 0.5000\n",
      "Epoch 113/200\n",
      "1/1 [==============================] - 0s 30ms/step - loss: 0.2082 - accuracy: 0.8333\n",
      "Epoch 114/200\n",
      "1/1 [==============================] - 0s 47ms/step - loss: 0.2927 - accuracy: 0.6667\n",
      "Epoch 115/200\n",
      "1/1 [==============================] - 0s 48ms/step - loss: 0.2020 - accuracy: 0.8333\n",
      "Epoch 116/200\n",
      "1/1 [==============================] - 0s 43ms/step - loss: 0.3345 - accuracy: 0.6667\n",
      "Epoch 117/200\n",
      "1/1 [==============================] - 0s 38ms/step - loss: 0.1803 - accuracy: 0.8333\n",
      "Epoch 118/200\n",
      "1/1 [==============================] - 0s 43ms/step - loss: 0.1741 - accuracy: 0.8333\n",
      "Epoch 119/200\n",
      "1/1 [==============================] - 0s 43ms/step - loss: 0.3439 - accuracy: 0.5000\n",
      "Epoch 120/200\n",
      "1/1 [==============================] - 0s 48ms/step - loss: 0.3067 - accuracy: 0.5000\n",
      "Epoch 121/200\n",
      "1/1 [==============================] - 0s 54ms/step - loss: 0.2623 - accuracy: 0.6667\n",
      "Epoch 122/200\n",
      "1/1 [==============================] - 0s 38ms/step - loss: 0.2178 - accuracy: 0.6667\n",
      "Epoch 123/200\n",
      "1/1 [==============================] - 0s 30ms/step - loss: 0.2032 - accuracy: 0.8333\n",
      "Epoch 124/200\n",
      "1/1 [==============================] - 0s 49ms/step - loss: 0.2357 - accuracy: 0.6667\n",
      "Epoch 125/200\n",
      "1/1 [==============================] - 0s 28ms/step - loss: 0.2624 - accuracy: 0.8333\n",
      "Epoch 126/200\n",
      "1/1 [==============================] - 0s 41ms/step - loss: 0.2712 - accuracy: 0.6667\n",
      "Epoch 127/200\n",
      "1/1 [==============================] - 0s 39ms/step - loss: 0.2747 - accuracy: 0.6667\n",
      "Epoch 128/200\n",
      "1/1 [==============================] - 0s 43ms/step - loss: 0.2485 - accuracy: 0.6667\n",
      "Epoch 129/200\n",
      "1/1 [==============================] - 0s 23ms/step - loss: 0.2423 - accuracy: 0.6667\n",
      "Epoch 130/200\n",
      "1/1 [==============================] - 0s 36ms/step - loss: 0.2219 - accuracy: 0.6667\n",
      "Epoch 131/200\n",
      "1/1 [==============================] - 0s 59ms/step - loss: 0.4338 - accuracy: 0.6667\n",
      "Epoch 132/200\n",
      "1/1 [==============================] - 0s 48ms/step - loss: 0.1960 - accuracy: 0.6667\n",
      "Epoch 133/200\n",
      "1/1 [==============================] - 0s 35ms/step - loss: 0.4131 - accuracy: 0.8333\n",
      "Epoch 134/200\n",
      "1/1 [==============================] - 0s 37ms/step - loss: 0.2598 - accuracy: 0.8333\n",
      "Epoch 135/200\n",
      "1/1 [==============================] - 0s 31ms/step - loss: 0.3850 - accuracy: 0.6667\n",
      "Epoch 136/200\n",
      "1/1 [==============================] - 0s 41ms/step - loss: 0.5136 - accuracy: 0.5000\n",
      "Epoch 137/200\n",
      "1/1 [==============================] - 0s 35ms/step - loss: 0.1772 - accuracy: 0.8333\n",
      "Epoch 138/200\n",
      "1/1 [==============================] - 0s 30ms/step - loss: 0.3608 - accuracy: 0.5000\n",
      "Epoch 139/200\n",
      "1/1 [==============================] - 0s 36ms/step - loss: 0.4406 - accuracy: 0.6667\n",
      "Epoch 140/200\n",
      "1/1 [==============================] - 0s 30ms/step - loss: 0.1779 - accuracy: 0.8333\n",
      "Epoch 141/200\n",
      "1/1 [==============================] - 0s 50ms/step - loss: 0.2793 - accuracy: 0.6667\n",
      "Epoch 142/200\n",
      "1/1 [==============================] - 0s 35ms/step - loss: 0.4084 - accuracy: 0.6667\n",
      "Epoch 143/200\n",
      "1/1 [==============================] - 0s 44ms/step - loss: 0.2198 - accuracy: 0.8333\n",
      "Epoch 144/200\n",
      "1/1 [==============================] - 0s 66ms/step - loss: 0.2510 - accuracy: 0.6667\n",
      "Epoch 145/200\n",
      "1/1 [==============================] - 0s 60ms/step - loss: 0.2303 - accuracy: 0.8333\n",
      "Epoch 146/200\n",
      "1/1 [==============================] - 0s 46ms/step - loss: 0.1859 - accuracy: 0.8333\n",
      "Epoch 147/200\n",
      "1/1 [==============================] - 0s 46ms/step - loss: 0.2167 - accuracy: 1.0000\n",
      "Epoch 148/200\n",
      "1/1 [==============================] - 0s 40ms/step - loss: 0.2193 - accuracy: 0.6667\n",
      "Epoch 149/200\n",
      "1/1 [==============================] - 0s 32ms/step - loss: 0.3893 - accuracy: 0.5000\n",
      "Epoch 150/200\n",
      "1/1 [==============================] - 0s 43ms/step - loss: 0.1955 - accuracy: 0.8333\n",
      "Epoch 151/200\n",
      "1/1 [==============================] - 0s 33ms/step - loss: 0.2113 - accuracy: 1.0000\n",
      "Epoch 152/200\n",
      "1/1 [==============================] - 0s 35ms/step - loss: 0.1952 - accuracy: 0.8333\n",
      "Epoch 153/200\n",
      "1/1 [==============================] - 0s 31ms/step - loss: 0.2329 - accuracy: 0.6667\n",
      "Epoch 154/200\n",
      "1/1 [==============================] - 0s 41ms/step - loss: 0.2074 - accuracy: 0.8333\n",
      "Epoch 155/200\n",
      "1/1 [==============================] - 0s 36ms/step - loss: 0.2839 - accuracy: 0.6667\n",
      "Epoch 156/200\n",
      "1/1 [==============================] - 0s 40ms/step - loss: 0.2847 - accuracy: 0.6667\n",
      "Epoch 157/200\n",
      "1/1 [==============================] - 0s 37ms/step - loss: 0.1876 - accuracy: 0.8333\n",
      "Epoch 158/200\n",
      "1/1 [==============================] - 0s 51ms/step - loss: 0.3081 - accuracy: 0.6667\n",
      "Epoch 159/200\n",
      "1/1 [==============================] - 0s 46ms/step - loss: 0.2110 - accuracy: 0.8333\n",
      "Epoch 160/200\n",
      "1/1 [==============================] - 0s 51ms/step - loss: 0.1817 - accuracy: 1.0000\n",
      "Epoch 161/200\n",
      "1/1 [==============================] - 0s 45ms/step - loss: 0.2173 - accuracy: 0.8333\n",
      "Epoch 162/200\n",
      "1/1 [==============================] - 0s 51ms/step - loss: 0.1674 - accuracy: 0.8333\n",
      "Epoch 163/200\n",
      "1/1 [==============================] - 0s 48ms/step - loss: 0.2233 - accuracy: 0.6667\n",
      "Epoch 164/200\n",
      "1/1 [==============================] - 0s 52ms/step - loss: 0.2647 - accuracy: 0.6667\n",
      "Epoch 165/200\n",
      "1/1 [==============================] - 0s 50ms/step - loss: 0.2601 - accuracy: 0.8333\n",
      "Epoch 166/200\n",
      "1/1 [==============================] - 0s 43ms/step - loss: 0.2574 - accuracy: 0.6667\n",
      "Epoch 167/200\n",
      "1/1 [==============================] - 0s 54ms/step - loss: 0.1954 - accuracy: 1.0000\n",
      "Epoch 168/200\n",
      "1/1 [==============================] - 0s 42ms/step - loss: 0.1537 - accuracy: 1.0000\n",
      "Epoch 169/200\n",
      "1/1 [==============================] - 0s 45ms/step - loss: 0.1472 - accuracy: 1.0000\n",
      "Epoch 170/200\n",
      "1/1 [==============================] - 0s 52ms/step - loss: 0.2924 - accuracy: 0.8333\n",
      "Epoch 171/200\n",
      "1/1 [==============================] - 0s 47ms/step - loss: 0.2536 - accuracy: 0.8333\n",
      "Epoch 172/200\n",
      "1/1 [==============================] - 0s 58ms/step - loss: 0.3378 - accuracy: 0.6667\n",
      "Epoch 173/200\n",
      "1/1 [==============================] - 0s 57ms/step - loss: 0.2863 - accuracy: 0.6667\n",
      "Epoch 174/200\n",
      "1/1 [==============================] - 0s 49ms/step - loss: 0.2654 - accuracy: 0.6667\n",
      "Epoch 175/200\n",
      "1/1 [==============================] - 0s 50ms/step - loss: 0.3798 - accuracy: 0.6667\n",
      "Epoch 176/200\n",
      "1/1 [==============================] - 0s 52ms/step - loss: 0.2439 - accuracy: 0.8333\n",
      "Epoch 177/200\n",
      "1/1 [==============================] - 0s 52ms/step - loss: 0.2164 - accuracy: 0.8333\n",
      "Epoch 178/200\n",
      "1/1 [==============================] - 0s 42ms/step - loss: 0.2440 - accuracy: 0.8333\n",
      "Epoch 179/200\n",
      "1/1 [==============================] - 0s 33ms/step - loss: 0.2581 - accuracy: 0.6667\n",
      "Epoch 180/200\n",
      "1/1 [==============================] - 0s 42ms/step - loss: 0.2226 - accuracy: 0.8333\n",
      "Epoch 181/200\n",
      "1/1 [==============================] - 0s 38ms/step - loss: 0.2108 - accuracy: 0.8333\n",
      "Epoch 182/200\n",
      "1/1 [==============================] - 0s 51ms/step - loss: 0.1613 - accuracy: 0.8333\n",
      "Epoch 183/200\n",
      "1/1 [==============================] - 0s 42ms/step - loss: 0.1548 - accuracy: 0.8333\n",
      "Epoch 184/200\n",
      "1/1 [==============================] - 0s 58ms/step - loss: 0.4014 - accuracy: 0.6667\n",
      "Epoch 185/200\n",
      "1/1 [==============================] - 0s 41ms/step - loss: 0.1978 - accuracy: 1.0000\n",
      "Epoch 186/200\n",
      "1/1 [==============================] - 0s 63ms/step - loss: 0.3166 - accuracy: 0.8333\n",
      "Epoch 187/200\n",
      "1/1 [==============================] - 0s 42ms/step - loss: 0.1714 - accuracy: 1.0000\n",
      "Epoch 188/200\n",
      "1/1 [==============================] - 0s 38ms/step - loss: 0.1819 - accuracy: 0.8333\n",
      "Epoch 189/200\n",
      "1/1 [==============================] - 0s 33ms/step - loss: 0.3144 - accuracy: 0.6667\n",
      "Epoch 190/200\n",
      "1/1 [==============================] - 0s 35ms/step - loss: 0.2543 - accuracy: 0.8333\n",
      "Epoch 191/200\n",
      "1/1 [==============================] - 0s 58ms/step - loss: 0.3698 - accuracy: 0.6667\n",
      "Epoch 192/200\n",
      "1/1 [==============================] - 0s 29ms/step - loss: 0.2331 - accuracy: 0.6667\n",
      "Epoch 193/200\n",
      "1/1 [==============================] - 0s 37ms/step - loss: 0.3119 - accuracy: 0.8333\n",
      "Epoch 194/200\n",
      "1/1 [==============================] - 0s 43ms/step - loss: 0.2397 - accuracy: 0.8333\n",
      "Epoch 195/200\n",
      "1/1 [==============================] - 0s 54ms/step - loss: 0.4169 - accuracy: 0.6667\n",
      "Epoch 196/200\n",
      "1/1 [==============================] - 0s 36ms/step - loss: 0.2346 - accuracy: 0.8333\n",
      "Epoch 197/200\n",
      "1/1 [==============================] - 0s 81ms/step - loss: 0.1831 - accuracy: 0.8333\n",
      "Epoch 198/200\n",
      "1/1 [==============================] - 0s 45ms/step - loss: 0.2516 - accuracy: 0.8333\n",
      "Epoch 199/200\n",
      "1/1 [==============================] - 0s 66ms/step - loss: 0.2622 - accuracy: 0.6667\n",
      "Epoch 200/200\n",
      "1/1 [==============================] - 0s 39ms/step - loss: 0.2329 - accuracy: 0.6667\n",
      "Predicted classes: {} [1 2 3 2 3 1]\n",
      "Expected classes: {} [1 2 3 2 3 1]\n"
     ]
    }
   ],
   "source": [
    "from tensorflow.keras.preprocessing import sequence\n",
    "from tensorflow.keras.models import Sequential\n",
    "from tensorflow.keras.layers import Dense, Embedding\n",
    "from tensorflow.keras.layers import LSTM\n",
    "import numpy as np\n",
    "\n",
    "max_features = 4 # 0,1,2,3 (total of 4)\n",
    "x = [\n",
    "    [[0],[1],[1],[0],[0],[0]],\n",
    "    [[0],[0],[0],[2],[2],[0]],\n",
    "    [[0],[0],[0],[0],[3],[3]],\n",
    "    [[0],[2],[2],[0],[0],[0]],\n",
    "    [[0],[0],[3],[3],[0],[0]],\n",
    "    [[0],[0],[0],[0],[1],[1]]\n",
    "]\n",
    "x = np.array(x,dtype=np.float32)\n",
    "y = np.array([1,2,3,2,3,1],dtype=np.int32)\n",
    "\n",
    "# Convert y2 to dummy variables\n",
    "y2 = np.zeros((y.shape[0], max_features),dtype=np.float32)\n",
    "y2[np.arange(y.shape[0]), y] = 1.0\n",
    "print(y2)\n",
    "\n",
    "print('Build model...')\n",
    "model = Sequential()\n",
    "model.add(LSTM(128, dropout=0.2, recurrent_dropout=0.2, \\\n",
    "               input_shape=(None, 1)))\n",
    "model.add(Dense(4, activation='sigmoid'))\n",
    "\n",
    "# try using different optimizers and different optimizer configs\n",
    "model.compile(loss='binary_crossentropy',\n",
    "              optimizer='adam',\n",
    "              metrics=['accuracy'])\n",
    "\n",
    "print('Train...')\n",
    "model.fit(x,y2,epochs=200)\n",
    "pred = model.predict(x)\n",
    "predict_classes = np.argmax(pred,axis=1)\n",
    "print(\"Predicted classes: {}\",predict_classes)\n",
    "print(\"Expected classes: {}\",predict_classes)"
   ]
  },
  {
   "cell_type": "markdown",
   "metadata": {
    "id": "CMIZvStnnD2c"
   },
   "source": [
    "We can now present a sequence directly to the model for classification."
   ]
  },
  {
   "cell_type": "code",
   "execution_count": 4,
   "metadata": {
    "colab": {
     "base_uri": "https://localhost:8080/"
    },
    "id": "F3otdNdwnD2d",
    "outputId": "b459b33f-4c47-4b87-cb6e-59a35e410455"
   },
   "outputs": [
    {
     "name": "stdout",
     "output_type": "stream",
     "text": [
      "1\n"
     ]
    }
   ],
   "source": [
    "def runit(model, inp):\n",
    "    inp = np.array(inp,dtype=np.float32)\n",
    "    pred = model.predict(inp)\n",
    "    return np.argmax(pred[0])\n",
    "\n",
    "print( runit( model, [[[0],[0],[0],[0],[0],[1]]] ))\n"
   ]
  },
  {
   "cell_type": "markdown",
   "metadata": {
    "id": "1DfNO5l8nD2d"
   },
   "source": [
    "## Sun Spots Example\n",
    "\n",
    "This section shows an example of RNN regression to predict sunspots.  You can find the data files needed for this example at the following location.\n",
    "\n",
    "* [Sunspot Data Files](http://www.sidc.be/silso/datafiles#total)\n",
    "* [Download Daily Sunspots](http://www.sidc.be/silso/INFO/sndtotcsv.php) - 1/1/1818 to now.\n",
    "\n",
    "The following code loads the sunspot file:\n"
   ]
  },
  {
   "cell_type": "code",
   "execution_count": 5,
   "metadata": {
    "colab": {
     "base_uri": "https://localhost:8080/"
    },
    "id": "c561r7ZCnD2d",
    "outputId": "c66d96d8-f902-4944-e7e9-05b2786816e0"
   },
   "outputs": [
    {
     "name": "stdout",
     "output_type": "stream",
     "text": [
      "Starting file:\n",
      "   year  month  day  dec_year  sn_value  sn_error  obs_num  unused1\n",
      "0  1818      1    1  1818.001        -1       NaN        0        1\n",
      "1  1818      1    2  1818.004        -1       NaN        0        1\n",
      "2  1818      1    3  1818.007        -1       NaN        0        1\n",
      "3  1818      1    4  1818.010        -1       NaN        0        1\n",
      "4  1818      1    5  1818.012        -1       NaN        0        1\n",
      "5  1818      1    6  1818.015        -1       NaN        0        1\n",
      "6  1818      1    7  1818.018        -1       NaN        0        1\n",
      "7  1818      1    8  1818.021        65      10.2        1        1\n",
      "8  1818      1    9  1818.023        -1       NaN        0        1\n",
      "9  1818      1   10  1818.026        -1       NaN        0        1\n",
      "Ending file:\n",
      "       year  month  day  dec_year  sn_value  sn_error  obs_num  unused1\n",
      "72855  2017      6   21  2017.470        35       1.0       41        0\n",
      "72856  2017      6   22  2017.473        24       0.8       39        0\n",
      "72857  2017      6   23  2017.475        23       0.9       40        0\n",
      "72858  2017      6   24  2017.478        26       2.3       15        0\n",
      "72859  2017      6   25  2017.481        17       1.0       18        0\n",
      "72860  2017      6   26  2017.484        21       1.1       25        0\n",
      "72861  2017      6   27  2017.486        19       1.2       36        0\n",
      "72862  2017      6   28  2017.489        17       1.1       22        0\n",
      "72863  2017      6   29  2017.492        12       0.5       25        0\n",
      "72864  2017      6   30  2017.495        11       0.5       30        0\n"
     ]
    }
   ],
   "source": [
    "import pandas as pd\n",
    "import os\n",
    "  \n",
    "names = ['year', 'month', 'day', 'dec_year', 'sn_value' , \n",
    "         'sn_error', 'obs_num', 'unused1']\n",
    "df = pd.read_csv(\n",
    "    \"https://data.heatonresearch.com/data/t81-558/SN_d_tot_V2.0.csv\",\n",
    "    sep=';',header=None,names=names,\n",
    "    na_values=['-1'], index_col=False)\n",
    "\n",
    "print(\"Starting file:\")\n",
    "print(df[0:10])\n",
    "\n",
    "print(\"Ending file:\")\n",
    "print(df[-10:])"
   ]
  },
  {
   "cell_type": "markdown",
   "metadata": {
    "id": "9R3-vBANnD2d"
   },
   "source": [
    "As you can see, there is quite a bit of missing data near the end of the file.  We want to find the starting index where the missing data no longer occurs.  This technique is somewhat sloppy; it would be better to find a use for the data between missing values.  However, the point of this example is to show how to use LSTM with a somewhat simple time-series."
   ]
  },
  {
   "cell_type": "code",
   "execution_count": 6,
   "metadata": {
    "colab": {
     "base_uri": "https://localhost:8080/"
    },
    "id": "mT-4MgobnD2d",
    "outputId": "76939195-fea1-47f4-bc84-53b52900e286"
   },
   "outputs": [
    {
     "name": "stdout",
     "output_type": "stream",
     "text": [
      "11314\n"
     ]
    }
   ],
   "source": [
    "start_id = max(df[df['obs_num'] == 0].index.tolist())+1  # Find the last zero and move one beyond\n",
    "print(start_id)\n",
    "df = df[start_id:] # Trim the rows that have missing observations"
   ]
  },
  {
   "cell_type": "code",
   "execution_count": 7,
   "metadata": {
    "colab": {
     "base_uri": "https://localhost:8080/"
    },
    "id": "8oL8-qB2nD2e",
    "outputId": "ba74ef8c-a289-4e6e-f828-dd7f92cf03a0"
   },
   "outputs": [
    {
     "name": "stdout",
     "output_type": "stream",
     "text": [
      "Training set has 55160 observations.\n",
      "Test set has 6391 observations.\n"
     ]
    }
   ],
   "source": [
    "df['sn_value'] = df['sn_value'].astype(float)\n",
    "df_train = df[df['year']<2000]\n",
    "df_test = df[df['year']>=2000]\n",
    "\n",
    "spots_train = df_train['sn_value'].tolist()\n",
    "spots_test = df_test['sn_value'].tolist()\n",
    "\n",
    "print(\"Training set has {} observations.\".format(len(spots_train)))\n",
    "print(\"Test set has {} observations.\".format(len(spots_test)))"
   ]
  },
  {
   "cell_type": "markdown",
   "metadata": {
    "id": "ipM_LjwxnD2e"
   },
   "source": [
    "To create an algorithm that will predict future values, we need to consider how to encode this data to be presented to the algorithm. The data must be submitted as sequences, using a sliding window algorithm to encode the data. We must define how large the window will be. Consider an n-sized window. Each sequence's $x$ values will be a $n$ data points sequence. The $y$'s will be the next value, after the sequence, that we are trying to predict. You can use the following function to take a series of values, such as sunspots, and generate sequences ($x$) and predicted values ($y$)."
   ]
  },
  {
   "cell_type": "code",
   "execution_count": 8,
   "metadata": {
    "colab": {
     "base_uri": "https://localhost:8080/"
    },
    "id": "kyUII6JynD2e",
    "outputId": "ab0fecf3-5f98-4d65-c234-a017d06f2c51"
   },
   "outputs": [
    {
     "name": "stdout",
     "output_type": "stream",
     "text": [
      "Shape of training set: (55150, 10, 1)\n",
      "Shape of test set: (6381, 10, 1)\n"
     ]
    }
   ],
   "source": [
    "import numpy as np\n",
    "\n",
    "def to_sequences(seq_size, obs):\n",
    "    x = []\n",
    "    y = []\n",
    "\n",
    "    for i in range(len(obs)-SEQUENCE_SIZE):\n",
    "        #print(i)\n",
    "        window = obs[i:(i+SEQUENCE_SIZE)]\n",
    "        after_window = obs[i+SEQUENCE_SIZE]\n",
    "        window = [[x] for x in window]\n",
    "        #print(\"{} - {}\".format(window,after_window))\n",
    "        x.append(window)\n",
    "        y.append(after_window)\n",
    "        \n",
    "    return np.array(x),np.array(y)\n",
    "    \n",
    "    \n",
    "SEQUENCE_SIZE = 10\n",
    "x_train,y_train = to_sequences(SEQUENCE_SIZE,spots_train)\n",
    "x_test,y_test = to_sequences(SEQUENCE_SIZE,spots_test)\n",
    "\n",
    "print(\"Shape of training set: {}\".format(x_train.shape))\n",
    "print(\"Shape of test set: {}\".format(x_test.shape))"
   ]
  },
  {
   "cell_type": "markdown",
   "metadata": {
    "id": "QXxRjf2vnrKC"
   },
   "source": [
    "We can see the internal structure of the training data. The first dimension is the number of training elements, the second indicates a sequence size of 10, and finally, we have one data point per timeslice in the window."
   ]
  },
  {
   "cell_type": "code",
   "execution_count": 9,
   "metadata": {
    "colab": {
     "base_uri": "https://localhost:8080/"
    },
    "id": "ckobdirKnD2e",
    "outputId": "7fc5e9c0-e8c0-4f37-cfcc-f25650300118"
   },
   "outputs": [
    {
     "data": {
      "text/plain": [
       "(55150, 10, 1)"
      ]
     },
     "execution_count": 9,
     "metadata": {},
     "output_type": "execute_result"
    }
   ],
   "source": [
    "x_train.shape"
   ]
  },
  {
   "cell_type": "markdown",
   "metadata": {
    "id": "L6_eY2f-nD2e"
   },
   "source": [
    "We are now ready to build and train the model."
   ]
  },
  {
   "cell_type": "code",
   "execution_count": null,
   "metadata": {
    "colab": {
     "base_uri": "https://localhost:8080/"
    },
    "id": "3whCrzBQnD2e",
    "outputId": "6f19ba11-e8d5-4698-b49c-b99dbb67ecd1"
   },
   "outputs": [
    {
     "name": "stdout",
     "output_type": "stream",
     "text": [
      "Build model...\n",
      "Train...\n",
      "Epoch 1/1000\n",
      "1724/1724 - 12s - loss: 1392.9260 - val_loss: 212.4303 - 12s/epoch - 7ms/step\n",
      "Epoch 2/1000\n",
      "1724/1724 - 10s - loss: 516.7653 - val_loss: 239.7139 - 10s/epoch - 6ms/step\n",
      "Epoch 3/1000\n",
      "1724/1724 - 10s - loss: 509.0716 - val_loss: 227.2393 - 10s/epoch - 6ms/step\n",
      "Epoch 4/1000\n",
      "1724/1724 - 10s - loss: 503.2472 - val_loss: 257.9693 - 10s/epoch - 6ms/step\n",
      "Epoch 5/1000\n",
      "1724/1724 - 10s - loss: 498.1863 - val_loss: 226.4870 - 10s/epoch - 6ms/step\n",
      "Epoch 6/1000\n",
      "1724/1724 - 10s - loss: 499.1180 - val_loss: 208.2820 - 10s/epoch - 6ms/step\n",
      "Epoch 7/1000\n",
      "1724/1724 - 10s - loss: 498.4828 - val_loss: 224.2135 - 10s/epoch - 6ms/step\n",
      "Epoch 8/1000\n",
      "1724/1724 - 10s - loss: 497.6813 - val_loss: 253.0776 - 10s/epoch - 6ms/step\n",
      "Epoch 9/1000\n",
      "1724/1724 - 10s - loss: 496.7933 - val_loss: 211.7351 - 10s/epoch - 6ms/step\n",
      "Epoch 10/1000\n",
      "1724/1724 - 10s - loss: 497.0393 - val_loss: 215.1721 - 10s/epoch - 6ms/step\n",
      "Epoch 11/1000\n",
      "Restoring model weights from the end of the best epoch: 6.\n",
      "1724/1724 - 10s - loss: 495.1920 - val_loss: 220.1826 - 10s/epoch - 6ms/step\n",
      "Epoch 11: early stopping\n"
     ]
    }
   ],
   "source": [
    "from tensorflow.keras.preprocessing import sequence\n",
    "from tensorflow.keras.models import Sequential\n",
    "from tensorflow.keras.layers import Dense, Embedding\n",
    "from tensorflow.keras.layers import LSTM\n",
    "from tensorflow.keras.datasets import imdb\n",
    "from tensorflow.keras.callbacks import EarlyStopping\n",
    "import numpy as np\n",
    "\n",
    "print('Build model...')\n",
    "model = Sequential()\n",
    "model.add(LSTM(64, dropout=0.0, recurrent_dropout=0.0,\\\n",
    "                   input_shape=(None, 1)))\n",
    "model.add(Dense(32))\n",
    "model.add(Dense(1))\n",
    "model.compile(loss='mean_squared_error', optimizer='adam')\n",
    "monitor = EarlyStopping(monitor='val_loss', min_delta=1e-3, patience=5, \n",
    "                        verbose=1, mode='auto', restore_best_weights=True)\n",
    "print('Train...')\n",
    "\n",
    "model.fit(x_train,y_train,validation_data=(x_test,y_test),\n",
    "          callbacks=[monitor],verbose=2,epochs=1000)"
   ]
  },
  {
   "cell_type": "markdown",
   "metadata": {
    "id": "LdKziq28nD2e"
   },
   "source": [
    "Finally, we evaluate the model with RMSE."
   ]
  },
  {
   "cell_type": "code",
   "execution_count": null,
   "metadata": {
    "id": "TspuM6gznD2e"
   },
   "outputs": [],
   "source": [
    "from sklearn import metrics\n",
    "\n",
    "pred = model.predict(x_test)\n",
    "score = np.sqrt(metrics.mean_squared_error(pred,y_test))\n",
    "print(\"Score (RMSE): {}\".format(score))"
   ]
  }
 ],
 "metadata": {
  "anaconda-cloud": {},
  "colab": {
   "name": "t81_558_class_10_2_lstm.ipynb",
   "provenance": []
  },
  "kernelspec": {
   "display_name": "Python 3.9 (tensorflow)",
   "language": "python",
   "name": "tensorflow"
  },
  "language_info": {
   "codemirror_mode": {
    "name": "ipython",
    "version": 3
   },
   "file_extension": ".py",
   "mimetype": "text/x-python",
   "name": "python",
   "nbconvert_exporter": "python",
   "pygments_lexer": "ipython3",
   "version": "3.9.7"
  }
 },
 "nbformat": 4,
 "nbformat_minor": 1
}
